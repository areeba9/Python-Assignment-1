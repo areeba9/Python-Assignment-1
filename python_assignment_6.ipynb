{
 "cells": [
  {
   "cell_type": "markdown",
   "metadata": {},
   "source": [
    "# Question 1:Define Object Oriented Programming Language?\n",
    "\n",
    "Object-oriented programming (OOP) is a programming language model in which programs are organized around data, or objects, \n",
    "rather than functions and logic.\n",
    "An object can be defined as a data field that has unique attributes and behavior."
   ]
  },
  {
   "cell_type": "markdown",
   "metadata": {},
   "source": [
    "# Question 2: List down the Benefits of OOP.\n",
    "\n",
    "• User can create new data type or users define data type by making class. \n",
    "\n",
    "• Code can be reuse by using inheritance.  \n",
    "\n",
    "• Data encapsulation (which we will study later in the article) adds an extra layer of security to the program developed using   the object-oriented approach.\n",
    "\n",
    "• Operators or functions can be overloaded by using polymorphism, so same functions or operators can be used for multitasking.\n",
    "\n",
    "• Object oriented system can be easily upgrade from small system to large system. \n",
    "\n",
    "• It is easy to partition work for same project. \n",
    "\n",
    "• Message passing techniques make communication easier.\n",
    "\n",
    "• Simple to implement."
   ]
  },
  {
   "cell_type": "markdown",
   "metadata": {},
   "source": [
    "# Question 3: Differentiate between function and method?\n",
    "\n",
    "A function is a piece of code usually written in the scope of global code or in a function itself(nested functions).\n",
    "We have to call a function by it's name explicitly and if needed we have to pass the parameters too.\n",
    "\n",
    "On the other hand, A method is defined inside an object's or class's definition. We can accesss this object by the name\n",
    "of the class or the object and we don't have to pass parameters explicitly."
   ]
  },
  {
   "cell_type": "markdown",
   "metadata": {},
   "source": [
    "# Question 4: Define the following terms:\n",
    "\n",
    "# CLASS:\n",
    "A Class is a description of a group of objects with common properties (attributes), behavior (operations), relationships,\n",
    "    and semantics. A class is an abstraction. An object is an instance of a class.\n",
    "    Example of a Class Class: Course Properties: Name, Location, Days Offered, Credit Hours, Professor Behavior: Add Student,\n",
    "                Delete Student, Get Course Roster, Determine If Full.\n",
    "\n",
    "# OBJECT:\n",
    "An Object represents an entity either physical (box), conceptual (chemical process), or software (list). An Object is a\n",
    "    concept, an abstraction, a thing with sharp boundaries and meaning for an application. \n",
    "    It has -Identity - a name -State - determined by the values of its attributes -Behavior - determined by how the object acts \n",
    "    or reacts to requests (messages) from other objects.\n",
    "\n",
    "# ATTRIBUTE:\n",
    "An Attribute is a named property of a class. It has a type. It describes the range of values that that property\n",
    "    may hold.\n",
    "\n",
    "# BEHAVIOUR: \n",
    "A class's behavior determines how an instance of that class operates; for example, how it will \"react\" if asked \n",
    "    to do something by another class or object or if its internal state changes. Behavior is the only way objects can do\n",
    "    anything to themselves or have anything done to them\n"
   ]
  },
  {
   "cell_type": "code",
   "execution_count": 2,
   "metadata": {},
   "outputs": [
    {
     "name": "stdout",
     "output_type": "stream",
     "text": [
      "A7 Audi 2017 Black 4\n",
      "A-Class is stopped.\n",
      "Corolla is now being driven.\n"
     ]
    }
   ],
   "source": [
    "# Question 5:\n",
    "# Write a code in python in which create a class named it Car which\n",
    "# have 5 attributes such like (model, color and name etc.) and 3\n",
    "# methods. And create 5 object instance from that class.\n",
    "\n",
    "class Car:\n",
    "    def __init__(self, name, brand, model, color, doors):\n",
    "        self.name = name\n",
    "        self.brand = brand\n",
    "        self.model = model\n",
    "        self.color =  color\n",
    "        self.doors = doors\n",
    "    def printCar(self):\n",
    "        print(self.name,self.brand, self.model, self.color, self.doors)\n",
    "    def drive(self):\n",
    "        print(self.name, \"is now being driven.\")\n",
    "    def stop(self):\n",
    "        print(self.name, \"is stopped.\")\n",
    "car1 = Car(\"WagonR\", \"Suzuki\", \"2016\", \"White\", 4)\n",
    "car2 = Car(\"A7\", \"Audi\", \"2017\", \"Black\", 4)\n",
    "car3 = Car(\"A-Class\", \"Mercedes-Benz\", \"2011\", \"Red\", 4)\n",
    "car4 = Car(\"Corolla\", \"Toyota\", \"2012\", \"sliver\", 4)\n",
    "car5 = Car(\"Vitz\", \"Honda\", \"2019\", \"Gray\", 4)\n",
    "car2.printCar()\n",
    "car3.stop()\n",
    "car4.drive()"
   ]
  },
  {
   "cell_type": "markdown",
   "metadata": {},
   "source": []
  },
  {
   "cell_type": "code",
   "execution_count": null,
   "metadata": {},
   "outputs": [],
   "source": []
  },
  {
   "cell_type": "code",
   "execution_count": null,
   "metadata": {},
   "outputs": [],
   "source": []
  }
 ],
 "metadata": {
  "kernelspec": {
   "display_name": "Python 3",
   "language": "python",
   "name": "python3"
  },
  "language_info": {
   "codemirror_mode": {
    "name": "ipython",
    "version": 3
   },
   "file_extension": ".py",
   "mimetype": "text/x-python",
   "name": "python",
   "nbconvert_exporter": "python",
   "pygments_lexer": "ipython3",
   "version": "3.7.3"
  }
 },
 "nbformat": 4,
 "nbformat_minor": 2
}

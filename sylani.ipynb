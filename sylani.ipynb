{
 "cells": [
  {
   "cell_type": "code",
   "execution_count": 3,
   "metadata": {},
   "outputs": [
    {
     "name": "stdout",
     "output_type": "stream",
     "text": [
      "what is your age?24\n",
      "allowed to ride\n"
     ]
    }
   ],
   "source": [
    "#if_statement\n",
    "age = int(input(\"what is your age?\"))\n",
    "if age >= 18:\n",
    "    print(\"allowed to ride\")\n",
    "else:\n",
    "    print(\"not allowed\")\n",
    "    \n",
    "    "
   ]
  },
  {
   "cell_type": "code",
   "execution_count": 4,
   "metadata": {},
   "outputs": [
    {
     "name": "stdout",
     "output_type": "stream",
     "text": [
      "your answer is correct\n"
     ]
    }
   ],
   "source": [
    "#comparsion_operators\n",
    "x=10;\n",
    "y=12;\n",
    "a=30;\n",
    "b=10;\n",
    "\n",
    "if x +y != a - b:\n",
    "    print(\"your answer is correct\")\n",
    "else:\n",
    "    print(\"wrong answer\")"
   ]
  },
  {
   "cell_type": "code",
   "execution_count": null,
   "metadata": {},
   "outputs": [],
   "source": []
  },
  {
   "cell_type": "code",
   "execution_count": 6,
   "metadata": {},
   "outputs": [
    {
     "name": "stdout",
     "output_type": "stream",
     "text": [
      "enter your percentage%:145\n",
      "A+\n"
     ]
    }
   ],
   "source": [
    "#else_elif_statemet\n",
    "per =int(input(\"enter your percentage%:\"));\n",
    "if per >= 80:\n",
    "    print(\"A+\")\n",
    "elif per >= 70 and per < 80:\n",
    "    print(\"A\")\n",
    "elif per >=60 and per < 70:\n",
    "    print (\"B\")\n",
    "elif per >=0 and per < 60:\n",
    "    print (\"fail\")\n",
    "else:\n",
    "    print(\"inappropiate percentage %\")"
   ]
  },
  {
   "cell_type": "code",
   "execution_count": 20,
   "metadata": {},
   "outputs": [
    {
     "name": "stdout",
     "output_type": "stream",
     "text": [
      "2\n"
     ]
    }
   ],
   "source": [
    "#if_statements_nested\n",
    "x = 12;\n",
    "y = 12;\n",
    "a = 3;\n",
    "b = 4;\n",
    "c = 123;\n",
    "d = 123;\n",
    "g=  6;\n",
    "h = 2;\n",
    "e = 7;\n",
    "f = 8;\n",
    "\n",
    "if (x == y or a == b) and c == d:\n",
    "    g = h\n",
    "    print(g)\n",
    "else:\n",
    "    e = f\n",
    "    print(e)"
   ]
  },
  {
   "cell_type": "code",
   "execution_count": 25,
   "metadata": {},
   "outputs": [
    {
     "name": "stdout",
     "output_type": "stream",
     "text": [
      "2\n"
     ]
    }
   ],
   "source": [
    "x = 12;\n",
    "y = 12;\n",
    "a = 3;\n",
    "b = 4;\n",
    "c = 123;\n",
    "d = 123;\n",
    "g=  6;\n",
    "h = 2;\n",
    "e = 7;\n",
    "f = 8;\n",
    "\n",
    "if c == d:\n",
    "    if x == y:\n",
    "        g = h\n",
    "        print(g)\n",
    "    elif a == b:\n",
    "        g = h\n",
    "        print(g)\n",
    "    else:\n",
    "        e = f\n",
    "        print(e)\n",
    "else:\n",
    "    e = f\n",
    "    print(e)"
   ]
  },
  {
   "cell_type": "code",
   "execution_count": null,
   "metadata": {},
   "outputs": [],
   "source": []
  }
 ],
 "metadata": {
  "kernelspec": {
   "display_name": "Python 3",
   "language": "python",
   "name": "python3"
  },
  "language_info": {
   "codemirror_mode": {
    "name": "ipython",
    "version": 3
   },
   "file_extension": ".py",
   "mimetype": "text/x-python",
   "name": "python",
   "nbconvert_exporter": "python",
   "pygments_lexer": "ipython3",
   "version": "3.7.3"
  }
 },
 "nbformat": 4,
 "nbformat_minor": 2
}
